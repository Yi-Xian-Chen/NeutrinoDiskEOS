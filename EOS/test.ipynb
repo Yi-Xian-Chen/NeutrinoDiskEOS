{
 "cells": [
  {
   "cell_type": "code",
   "execution_count": 1,
   "id": "22708015-4651-4f5a-9260-82be88413521",
   "metadata": {},
   "outputs": [],
   "source": [
    "import sys\n",
    "sys.path.append('.')\n",
    "from EOS import NeutrinoDiskEOS\n",
    "import numpy as np\n",
    "from scipy.integrate import quad"
   ]
  },
  {
   "cell_type": "code",
   "execution_count": 22,
   "id": "7b24b9dc-97b0-43e0-99e6-dbb529e8c5f4",
   "metadata": {},
   "outputs": [],
   "source": [
    "test = NeutrinoDiskEOS(100, 100, 9, 10.5, 6, 9.5, 0.5) \n",
    "\n",
    "#initialize 100*100 grid with temperature ranging from 1e9-1e10.5\n",
    "#density ranging from 1e6-1e9.5 in cgs units\n",
    "#initial/fix Ye = 0.5, but equilibrium Ye will be calculated from density and temperature"
   ]
  },
  {
   "cell_type": "code",
   "execution_count": null,
   "id": "1e0820c8-cb59-472e-84d9-4eb0fc41c48e",
   "metadata": {},
   "outputs": [],
   "source": [
    "test.run() #run the calculation"
   ]
  },
  {
   "cell_type": "code",
   "execution_count": null,
   "id": "a1c0298b-7131-4337-bc33-d740e012ea7b",
   "metadata": {},
   "outputs": [],
   "source": [
    "import matplotlib.pyplot as plt\n",
    "import matplotlib as mpl\n",
    "\n",
    "# Create a meshgrid of temperature and density \n",
    "\n",
    "# Plotting contours of YeEQ\n",
    "plt.figure(figsize=(8, 6))\n",
    "\n",
    "plt.pcolormesh(test.temp2D, test.rho2D, test.YeEQ)\n",
    "plt.colorbar()\n",
    "\n",
    "cp = plt.contour(test.temp2D, test.rho2D, test.YeEQ, levels=[0.1, 0.3, 0.5, 0.6, 0.7], cmap='RdBu')\n",
    "\n",
    "\n",
    "# Set axis labels\n",
    "plt.ylabel('Density (rho)')\n",
    "plt.xlabel('Temperature (T)')\n",
    "\n",
    "plt.xscale(\"log\")\n",
    "\n",
    "plt.yscale(\"log\")\n",
    "\n",
    "# Add title\n",
    "plt.title('YeEQ Contours in rho-T Parameter Space')\n",
    "\n",
    "# Display the plot\n",
    "plt.show()\n",
    "\n",
    "#check that the contours are similar to Beloborodov 2003\n"
   ]
  },
  {
   "cell_type": "code",
   "execution_count": 20,
   "id": "e1585e44-453b-40a9-bb58-3a5868a9a10a",
   "metadata": {},
   "outputs": [],
   "source": [
    "np.savetxt(\"outputs/Ttable.txt\",test.temp2D.T[0])\n",
    "\n",
    "np.savetxt(\"outputs/rhotable.txt\",test.rho2D[0])\n",
    "\n",
    "np.savetxt(\"outputs/EqYetable.txt\",test.YeEQ)\n",
    "\n",
    "np.savetxt(\"outputs/Eqcoolingtable.txt\",test.edotcoolEQ) \n",
    "\n",
    "#examples of saving equilibrium Ye and cooling rate as tables, used from interpolation/inversion etc"
   ]
  },
  {
   "cell_type": "code",
   "execution_count": null,
   "id": "3ba5983c-1515-41b5-9991-042da2f920bb",
   "metadata": {},
   "outputs": [],
   "source": []
  }
 ],
 "metadata": {
  "kernelspec": {
   "display_name": "Python 3 (ipykernel)",
   "language": "python",
   "name": "python3"
  },
  "language_info": {
   "codemirror_mode": {
    "name": "ipython",
    "version": 3
   },
   "file_extension": ".py",
   "mimetype": "text/x-python",
   "name": "python",
   "nbconvert_exporter": "python",
   "pygments_lexer": "ipython3",
   "version": "3.9.6"
  }
 },
 "nbformat": 4,
 "nbformat_minor": 5
}
